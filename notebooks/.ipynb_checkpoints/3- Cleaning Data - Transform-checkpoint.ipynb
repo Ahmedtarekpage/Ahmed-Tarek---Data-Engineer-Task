{
 "cells": [
  {
   "cell_type": "markdown",
   "id": "d81b1c3b",
   "metadata": {},
   "source": []
  },
  {
   "cell_type": "code",
   "execution_count": 1,
   "id": "2b29c5b4",
   "metadata": {},
   "outputs": [],
   "source": [
    "import os \n",
    "import pandas as pd\n",
    "import json\n",
    "from datetime import datetime\n",
    "\n"
   ]
  },
  {
   "cell_type": "code",
   "execution_count": 2,
   "id": "c2aae8d5",
   "metadata": {},
   "outputs": [
    {
     "name": "stdout",
     "output_type": "stream",
     "text": [
      "C:\\Users\\Ahmed Tarek\\Desktop\\Task\\notebooks\n",
      "C:\\Users\\Ahmed Tarek\\Desktop\\Task\n",
      "C:\\Users\\Ahmed Tarek\\Desktop\\Task\\data\n"
     ]
    }
   ],
   "source": [
    "cwd = os.getcwd()\n",
    "print(cwd)\n",
    "BASE_DIR = os.path.dirname(cwd)\n",
    "print(BASE_DIR)\n",
    "DATA_DIR = os.path.join(BASE_DIR, 'data')\n",
    "print(DATA_DIR)\n",
    "CACHE_DIR = os.path.join(BASE_DIR, 'cache')\n",
    "os.makedirs(CACHE_DIR, exist_ok=True)\n",
    "my_list=[]\n",
    "working_file = os.path.join(CACHE_DIR, 'Company_Dataset.csv')\n",
    "output_file = os.path.join(CACHE_DIR, 'Company_Dataset_cleaned.csv')\n"
   ]
  },
  {
   "cell_type": "code",
   "execution_count": 3,
   "id": "de48ee79",
   "metadata": {},
   "outputs": [
    {
     "name": "stdout",
     "output_type": "stream",
     "text": [
      "['tagaddod-d8ffe--MsZkGFSCtYxntenMuVF-export.json', 'tagaddod-d8ffe--MszT9RZtTjcM5PwTCBH-export.json', 'tagaddod-d8ffe--MwWeqpG3yuQD7G2wcp8-export.json', 'tagaddod-d8ffe--N4SUsENXI1OF1qf8VxT-export.json']\n"
     ]
    }
   ],
   "source": [
    "files = os.listdir(DATA_DIR)\n",
    "print(files)"
   ]
  },
  {
   "cell_type": "code",
   "execution_count": 4,
   "id": "7dc791c5",
   "metadata": {},
   "outputs": [],
   "source": [
    "def string_date():\n",
    "    \n",
    "            try:\n",
    "                data[k]['snapshot_datetime'] = datetime.strptime(data[k]['snapshot_datetime'][2:] , '%y-%m-%d %H:%M:%S.%f')\n",
    "            except KeyError:\n",
    "                print(\"\")\n",
    "            except ValueError:\n",
    "                try:\n",
    "                    data[k]['snapshot_datetime'] = datetime.strptime(data[k]['snapshot_datetime'] , '%y-%m-%d %H:%M:%S.%f')\n",
    "                except ValueError:\n",
    "                    try:\n",
    "                        data[k]['snapshot_datetime'] = datetime.strptime(data[k]['snapshot_datetime'][2:] , '%y-%m-%d %H:%M:%S')\n",
    "                    except ValueError:\n",
    "                        data[k]['snapshot_datetime'] = datetime.strptime(data[k]['snapshot_datetime'] , '%y-%m-%d %H:%M:%S')"
   ]
  },
  {
   "cell_type": "code",
   "execution_count": 5,
   "id": "94447dd4",
   "metadata": {},
   "outputs": [
    {
     "name": "stdout",
     "output_type": "stream",
     "text": [
      "C:\\Users\\Ahmed Tarek\\Desktop\\Task\\data\\tagaddod-d8ffe--MsZkGFSCtYxntenMuVF-export.json\n",
      "C:\\Users\\Ahmed Tarek\\Desktop\\Task\\data\\tagaddod-d8ffe--MszT9RZtTjcM5PwTCBH-export.json\n",
      "C:\\Users\\Ahmed Tarek\\Desktop\\Task\\data\\tagaddod-d8ffe--MwWeqpG3yuQD7G2wcp8-export.json\n",
      "C:\\Users\\Ahmed Tarek\\Desktop\\Task\\data\\tagaddod-d8ffe--N4SUsENXI1OF1qf8VxT-export.json\n",
      "<class 'pandas.core.frame.DataFrame'>\n",
      "RangeIndex: 22187 entries, 0 to 22186\n",
      "Data columns (total 7 columns):\n",
      " #   Column                  Non-Null Count  Dtype \n",
      "---  ------                  --------------  ----- \n",
      " 0   device_id               22182 non-null  object\n",
      " 1   latitude                22120 non-null  object\n",
      " 2   longitude               22120 non-null  object\n",
      " 3   snapshot_datetime       22182 non-null  object\n",
      " 4   meta-data               1 non-null      object\n",
      " 5   collector_id            21867 non-null  object\n",
      " 6   destination_request_id  9586 non-null   object\n",
      "dtypes: object(7)\n",
      "memory usage: 1.2+ MB\n"
     ]
    }
   ],
   "source": [
    "for f in files:\n",
    "    filename=f.replace(\".json\",\" \")\n",
    "    f= os.path.join(DATA_DIR,f)\n",
    "    print(f)\n",
    "    with open(f) as json_file:\n",
    "        data = json.load(json_file)\n",
    "        for k in data:\n",
    "            #data[k]['file_name']=filename\n",
    "            #string_date()\n",
    "            my_list.append(data[k])\n",
    "\n",
    "#print(my_list)\n",
    "df=pd.DataFrame(my_list)\n",
    "df.info()\n",
    "#df = df[df['device_id'].notna()]\n",
    "dataset = os.path.join(CACHE_DIR, 'Company_Dataset.csv')\n",
    "df.to_csv(dataset, index=False)\n",
    "\n"
   ]
  },
  {
   "cell_type": "code",
   "execution_count": 6,
   "id": "924ff4eb",
   "metadata": {},
   "outputs": [
    {
     "data": {
      "text/plain": [
       "device_id                 object\n",
       "latitude                  object\n",
       "longitude                 object\n",
       "snapshot_datetime         object\n",
       "meta-data                 object\n",
       "collector_id              object\n",
       "destination_request_id    object\n",
       "dtype: object"
      ]
     },
     "execution_count": 6,
     "metadata": {},
     "output_type": "execute_result"
    }
   ],
   "source": [
    "df.dtypes"
   ]
  },
  {
   "cell_type": "code",
   "execution_count": null,
   "id": "f4c4f67b",
   "metadata": {},
   "outputs": [],
   "source": []
  },
  {
   "cell_type": "code",
   "execution_count": null,
   "id": "26f3bbc0",
   "metadata": {},
   "outputs": [],
   "source": []
  }
 ],
 "metadata": {
  "kernelspec": {
   "display_name": "Python 3 (ipykernel)",
   "language": "python",
   "name": "python3"
  },
  "language_info": {
   "codemirror_mode": {
    "name": "ipython",
    "version": 3
   },
   "file_extension": ".py",
   "mimetype": "text/x-python",
   "name": "python",
   "nbconvert_exporter": "python",
   "pygments_lexer": "ipython3",
   "version": "3.9.7"
  }
 },
 "nbformat": 4,
 "nbformat_minor": 5
}
