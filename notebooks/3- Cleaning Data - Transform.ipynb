{
 "cells": [
  {
   "cell_type": "code",
   "execution_count": 1,
   "id": "e376723e",
   "metadata": {},
   "outputs": [],
   "source": [
    "# Name : Ahmed Tarek \n",
    "# Date : 8/8/2022 \n",
    "# Company : Tagaddod \n",
    "# Tagaddod Data Engineer Position Task "
   ]
  },
  {
   "cell_type": "markdown",
   "id": "da1ee954",
   "metadata": {},
   "source": [
    "# Cleaning Data (Transform) \n"
   ]
  },
  {
   "cell_type": "code",
   "execution_count": 2,
   "id": "2b29c5b4",
   "metadata": {},
   "outputs": [],
   "source": [
    "import os  #Using For Directory Path \n",
    "import json #For Loading JSON files\n",
    "import pandas as pd #Pandas Library For Working with Dataframes\n",
    "from datetime import datetime #for Converting date & Time to datetime type for using it in data analysis\n",
    "\n"
   ]
  },
  {
   "cell_type": "code",
   "execution_count": 3,
   "id": "c2aae8d5",
   "metadata": {},
   "outputs": [
    {
     "name": "stdout",
     "output_type": "stream",
     "text": [
      "C:\\Users\\Ahmed Tarek\\Desktop\\Task\\notebooks\n",
      "C:\\Users\\Ahmed Tarek\\Desktop\\Task\n",
      "C:\\Users\\Ahmed Tarek\\Desktop\\Task\\data\n"
     ]
    }
   ],
   "source": [
    "cwd = os.getcwd() #Getting the Current Path \n",
    "print(cwd)\n",
    "\n",
    "BASE_DIR = os.path.dirname(cwd) # Going back for All Folders \n",
    "print(BASE_DIR)\n",
    "\n",
    "DATA_DIR = os.path.join(BASE_DIR, 'data') #Going to the Data Folder\n",
    "print(DATA_DIR)\n",
    "\n",
    "CACHE_DIR = os.path.join(BASE_DIR, 'cache') #Cash Folder For Saving Merged data & Cleaned Merged Data \n",
    "os.makedirs(CACHE_DIR, exist_ok=True) #Creating the CACHE Folder \n",
    "\n",
    "working_file = os.path.join(CACHE_DIR, 'Company_Dataset.csv') #Merged Data path \n",
    "my_list=[] #List for Appending Differant Dict (That Comes From JSON) → to be Used in Merging Data\n",
    "\n",
    "output_file = os.path.join(CACHE_DIR, 'Company_Dataset_cleaned.csv') #Cleaned data CSV File \n",
    "\n"
   ]
  },
  {
   "cell_type": "code",
   "execution_count": 4,
   "id": "de48ee79",
   "metadata": {},
   "outputs": [
    {
     "name": "stdout",
     "output_type": "stream",
     "text": [
      "['tagaddod-d8ffe--MsZkGFSCtYxntenMuVF-export.json', 'tagaddod-d8ffe--MszT9RZtTjcM5PwTCBH-export.json', 'tagaddod-d8ffe--MwWeqpG3yuQD7G2wcp8-export.json', 'tagaddod-d8ffe--N4SUsENXI1OF1qf8VxT-export.json']\n"
     ]
    }
   ],
   "source": [
    "#All of JSON files Names\n",
    "files = os.listdir(DATA_DIR) \n",
    "print(files)"
   ]
  },
  {
   "cell_type": "code",
   "execution_count": 5,
   "id": "7dc791c5",
   "metadata": {},
   "outputs": [],
   "source": [
    "#converting date time from string to date_time for using it in data Analysis\n",
    "def clean_string_date():\n",
    "    \n",
    "            try:\n",
    "                data[k]['snapshot_datetime'] = datetime.strptime(data[k]['snapshot_datetime'][2:] , '%y-%m-%d %H:%M:%S.%f')\n",
    "            except KeyError:\n",
    "                print(\"\")\n",
    "            except ValueError:\n",
    "                try:\n",
    "                    data[k]['snapshot_datetime'] = datetime.strptime(data[k]['snapshot_datetime'] , '%y-%m-%d %H:%M:%S.%f')\n",
    "                except ValueError:\n",
    "                    try:\n",
    "                        data[k]['snapshot_datetime'] = datetime.strptime(data[k]['snapshot_datetime'][2:] , '%y-%m-%d %H:%M:%S')\n",
    "                    except ValueError:\n",
    "                        data[k]['snapshot_datetime'] = datetime.strptime(data[k]['snapshot_datetime'] , '%y-%m-%d %H:%M:%S')"
   ]
  },
  {
   "cell_type": "code",
   "execution_count": 6,
   "id": "94447dd4",
   "metadata": {},
   "outputs": [
    {
     "name": "stdout",
     "output_type": "stream",
     "text": [
      "C:\\Users\\Ahmed Tarek\\Desktop\\Task\\data\\tagaddod-d8ffe--MsZkGFSCtYxntenMuVF-export.json\n",
      "\n",
      "\n",
      "C:\\Users\\Ahmed Tarek\\Desktop\\Task\\data\\tagaddod-d8ffe--MszT9RZtTjcM5PwTCBH-export.json\n",
      "\n",
      "C:\\Users\\Ahmed Tarek\\Desktop\\Task\\data\\tagaddod-d8ffe--MwWeqpG3yuQD7G2wcp8-export.json\n",
      "\n",
      "C:\\Users\\Ahmed Tarek\\Desktop\\Task\\data\\tagaddod-d8ffe--N4SUsENXI1OF1qf8VxT-export.json\n",
      "\n"
     ]
    }
   ],
   "source": [
    "for f in files: #iterating throgh All file Names\n",
    "    filename=f.replace(\".json\",\" \") #Getting Files Names For Using it as a New Coulmn \"Without JSON\"\n",
    "    \n",
    "    #Getting the Full path\n",
    "    f= os.path.join(DATA_DIR,f)\n",
    "    print(f)\n",
    "    #openinng All JSON Files \n",
    "    with open(f) as json_file:\n",
    "        data = json.load(json_file)\n",
    "        #Making a New Key:Value for a Dict {\"file_name \": File name } to be added as a Coulmn \n",
    "        for k in data:\n",
    "            data[k]['file_name']=filename\n",
    "            clean_string_date() #Converting date str → date_time\n",
    "            my_list.append(data[k])\n",
    "\n",
    "#print(my_list)\n"
   ]
  },
  {
   "cell_type": "code",
   "execution_count": 8,
   "id": "8b9b987a",
   "metadata": {},
   "outputs": [],
   "source": [
    "df=pd.DataFrame(my_list) #Converting the Combined list to Dataframe\n",
    "#Saving cleaned_Combined data to CSV file\n",
    "\n",
    "#Dropping any Row that didn't has device_id\n",
    "df = df[df['device_id'].notna()]\n",
    "\n",
    "#Saving Combined_Cleaned data to CSV\n",
    "dataset = os.path.join(CACHE_DIR, 'Company_Dataset_cleaned.csv') \n",
    "df.to_csv(dataset, index=False)\n",
    "\n",
    "\n"
   ]
  },
  {
   "cell_type": "code",
   "execution_count": 9,
   "id": "924ff4eb",
   "metadata": {},
   "outputs": [
    {
     "data": {
      "text/plain": [
       "device_id                         object\n",
       "latitude                          object\n",
       "longitude                         object\n",
       "snapshot_datetime         datetime64[ns]\n",
       "file_name                         object\n",
       "meta-data                         object\n",
       "collector_id                      object\n",
       "destination_request_id            object\n",
       "dtype: object"
      ]
     },
     "execution_count": 9,
     "metadata": {},
     "output_type": "execute_result"
    }
   ],
   "source": [
    "#Checking data types\n",
    "df.dtypes"
   ]
  },
  {
   "cell_type": "code",
   "execution_count": null,
   "id": "9afcaecf",
   "metadata": {},
   "outputs": [],
   "source": []
  }
 ],
 "metadata": {
  "kernelspec": {
   "display_name": "Python 3 (ipykernel)",
   "language": "python",
   "name": "python3"
  },
  "language_info": {
   "codemirror_mode": {
    "name": "ipython",
    "version": 3
   },
   "file_extension": ".py",
   "mimetype": "text/x-python",
   "name": "python",
   "nbconvert_exporter": "python",
   "pygments_lexer": "ipython3",
   "version": "3.10.4"
  }
 },
 "nbformat": 4,
 "nbformat_minor": 5
}
